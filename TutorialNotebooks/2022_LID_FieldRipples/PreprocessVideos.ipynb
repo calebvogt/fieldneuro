{
 "cells": [
  {
   "cell_type": "markdown",
   "metadata": {},
   "source": [
    "## Concatenate the field videos"
   ]
  },
  {
   "cell_type": "code",
   "execution_count": null,
   "metadata": {},
   "outputs": [],
   "source": [
    "# Explicit import from the `video` module\n",
    "import field_neuro as fn\n",
    "from fn.video.concat_videos import concat_videos\n",
    "\n",
    "# Test the function\n",
    "# concat_videos(r'Y:\\Data\\2024_Vogt_LID_SWRDisruption\\1_data\\T001\\video_lorex_proc\\2')\n",
    "# concat_videos(r'Y:\\Data\\2024_Vogt_LID_SWRDisruption\\1_data\\T001\\video_lorex_proc\\3')\n",
    "# concat_videos(r'Y:\\Data\\2024_Vogt_LID_SWRDisruption\\1_data\\T001\\video_lorex_proc\\4')\n",
    "# concat_videos(r'Y:\\Data\\2024_Vogt_LID_SWRDisruption\\1_data\\T001\\video_lorex_proc\\5')\n",
    "# concat_videos(r'Y:\\Data\\2024_Vogt_LID_SWRDisruption\\1_data\\T001\\video_lorex_proc\\6')\n",
    "# concat_videos(r'Y:\\Data\\2024_Vogt_LID_SWRDisruption\\1_data\\T001\\video_lorex_proc\\7')\n",
    "# concat_videos(r'Y:\\Data\\2024_Vogt_LID_SWRDisruption\\1_data\\T001\\video_lorex_proc\\8')\n",
    "# concat_videos(r'Y:\\Data\\2024_Vogt_LID_SWRDisruption\\1_data\\T001\\video_lorex_proc\\9')\n",
    "# concat_videos(r'Y:\\Data\\2024_Vogt_LID_SWRDisruption\\1_data\\T001\\video_lorex_proc\\10')\n",
    "# concat_videos(r'Y:\\Data\\2024_Vogt_LID_SWRDisruption\\1_data\\T001\\video_lorex_proc\\11')\n",
    "# concat_videos(r'Y:\\Data\\2024_Vogt_LID_SWRDisruption\\1_data\\T001\\video_lorex_proc\\12')"
   ]
  }
 ],
 "metadata": {
  "kernelspec": {
   "display_name": "base",
   "language": "python",
   "name": "python3"
  },
  "language_info": {
   "codemirror_mode": {
    "name": "ipython",
    "version": 3
   },
   "file_extension": ".py",
   "mimetype": "text/x-python",
   "name": "python",
   "nbconvert_exporter": "python",
   "pygments_lexer": "ipython3",
   "version": "3.10.14"
  }
 },
 "nbformat": 4,
 "nbformat_minor": 2
}
